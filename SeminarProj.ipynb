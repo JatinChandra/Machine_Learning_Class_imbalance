{
 "cells": [
  {
   "cell_type": "markdown",
   "metadata": {},
   "source": [
    "# Class imbalance Problem Handling"
   ]
  },
  {
   "cell_type": "code",
   "execution_count": 5,
   "metadata": {},
   "outputs": [],
   "source": [
    "#Importing Libraries\n",
    "import numpy as np\n",
    "import pandas as pd\n",
    "import seaborn as sns\n",
    "import matplotlib.pyplot as plt \n",
    "from matplotlib import pyplot\n",
    "from sklearn.model_selection import train_test_split\n",
    "from sklearn.linear_model import LogisticRegression\n",
    "from sklearn.tree import DecisionTreeClassifier\n",
    "from sklearn.ensemble import RandomForestClassifier\n",
    "from sklearn import metrics\n",
    "from sklearn.metrics import confusion_matrix,classification_report,roc_auc_score,f1_score,roc_curve,accuracy_score,recall_score\n",
    "from sklearn.ensemble import AdaBoostClassifier\n",
    "from sklearn.metrics import average_precision_score\n",
    "from sklearn.metrics import precision_recall_curve\n",
    "import warnings\n",
    "warnings.filterwarnings(\"ignore\")"
   ]
  },
  {
   "cell_type": "code",
   "execution_count": 6,
   "metadata": {},
   "outputs": [
    {
     "data": {
      "text/html": [
       "<div>\n",
       "<style scoped>\n",
       "    .dataframe tbody tr th:only-of-type {\n",
       "        vertical-align: middle;\n",
       "    }\n",
       "\n",
       "    .dataframe tbody tr th {\n",
       "        vertical-align: top;\n",
       "    }\n",
       "\n",
       "    .dataframe thead th {\n",
       "        text-align: right;\n",
       "    }\n",
       "</style>\n",
       "<table border=\"1\" class=\"dataframe\">\n",
       "  <thead>\n",
       "    <tr style=\"text-align: right;\">\n",
       "      <th></th>\n",
       "      <th>Time</th>\n",
       "      <th>V1</th>\n",
       "      <th>V2</th>\n",
       "      <th>V3</th>\n",
       "      <th>V4</th>\n",
       "      <th>V5</th>\n",
       "      <th>V6</th>\n",
       "      <th>V7</th>\n",
       "      <th>V8</th>\n",
       "      <th>V9</th>\n",
       "      <th>...</th>\n",
       "      <th>V21</th>\n",
       "      <th>V22</th>\n",
       "      <th>V23</th>\n",
       "      <th>V24</th>\n",
       "      <th>V25</th>\n",
       "      <th>V26</th>\n",
       "      <th>V27</th>\n",
       "      <th>V28</th>\n",
       "      <th>Amount</th>\n",
       "      <th>Class</th>\n",
       "    </tr>\n",
       "  </thead>\n",
       "  <tbody>\n",
       "    <tr>\n",
       "      <th>0</th>\n",
       "      <td>0.0</td>\n",
       "      <td>-1.359807</td>\n",
       "      <td>-0.072781</td>\n",
       "      <td>2.536347</td>\n",
       "      <td>1.378155</td>\n",
       "      <td>-0.338321</td>\n",
       "      <td>0.462388</td>\n",
       "      <td>0.239599</td>\n",
       "      <td>0.098698</td>\n",
       "      <td>0.363787</td>\n",
       "      <td>...</td>\n",
       "      <td>-0.018307</td>\n",
       "      <td>0.277838</td>\n",
       "      <td>-0.110474</td>\n",
       "      <td>0.066928</td>\n",
       "      <td>0.128539</td>\n",
       "      <td>-0.189115</td>\n",
       "      <td>0.133558</td>\n",
       "      <td>-0.021053</td>\n",
       "      <td>149.62</td>\n",
       "      <td>0</td>\n",
       "    </tr>\n",
       "    <tr>\n",
       "      <th>1</th>\n",
       "      <td>0.0</td>\n",
       "      <td>1.191857</td>\n",
       "      <td>0.266151</td>\n",
       "      <td>0.166480</td>\n",
       "      <td>0.448154</td>\n",
       "      <td>0.060018</td>\n",
       "      <td>-0.082361</td>\n",
       "      <td>-0.078803</td>\n",
       "      <td>0.085102</td>\n",
       "      <td>-0.255425</td>\n",
       "      <td>...</td>\n",
       "      <td>-0.225775</td>\n",
       "      <td>-0.638672</td>\n",
       "      <td>0.101288</td>\n",
       "      <td>-0.339846</td>\n",
       "      <td>0.167170</td>\n",
       "      <td>0.125895</td>\n",
       "      <td>-0.008983</td>\n",
       "      <td>0.014724</td>\n",
       "      <td>2.69</td>\n",
       "      <td>0</td>\n",
       "    </tr>\n",
       "    <tr>\n",
       "      <th>2</th>\n",
       "      <td>1.0</td>\n",
       "      <td>-1.358354</td>\n",
       "      <td>-1.340163</td>\n",
       "      <td>1.773209</td>\n",
       "      <td>0.379780</td>\n",
       "      <td>-0.503198</td>\n",
       "      <td>1.800499</td>\n",
       "      <td>0.791461</td>\n",
       "      <td>0.247676</td>\n",
       "      <td>-1.514654</td>\n",
       "      <td>...</td>\n",
       "      <td>0.247998</td>\n",
       "      <td>0.771679</td>\n",
       "      <td>0.909412</td>\n",
       "      <td>-0.689281</td>\n",
       "      <td>-0.327642</td>\n",
       "      <td>-0.139097</td>\n",
       "      <td>-0.055353</td>\n",
       "      <td>-0.059752</td>\n",
       "      <td>378.66</td>\n",
       "      <td>0</td>\n",
       "    </tr>\n",
       "    <tr>\n",
       "      <th>3</th>\n",
       "      <td>1.0</td>\n",
       "      <td>-0.966272</td>\n",
       "      <td>-0.185226</td>\n",
       "      <td>1.792993</td>\n",
       "      <td>-0.863291</td>\n",
       "      <td>-0.010309</td>\n",
       "      <td>1.247203</td>\n",
       "      <td>0.237609</td>\n",
       "      <td>0.377436</td>\n",
       "      <td>-1.387024</td>\n",
       "      <td>...</td>\n",
       "      <td>-0.108300</td>\n",
       "      <td>0.005274</td>\n",
       "      <td>-0.190321</td>\n",
       "      <td>-1.175575</td>\n",
       "      <td>0.647376</td>\n",
       "      <td>-0.221929</td>\n",
       "      <td>0.062723</td>\n",
       "      <td>0.061458</td>\n",
       "      <td>123.50</td>\n",
       "      <td>0</td>\n",
       "    </tr>\n",
       "    <tr>\n",
       "      <th>4</th>\n",
       "      <td>2.0</td>\n",
       "      <td>-1.158233</td>\n",
       "      <td>0.877737</td>\n",
       "      <td>1.548718</td>\n",
       "      <td>0.403034</td>\n",
       "      <td>-0.407193</td>\n",
       "      <td>0.095921</td>\n",
       "      <td>0.592941</td>\n",
       "      <td>-0.270533</td>\n",
       "      <td>0.817739</td>\n",
       "      <td>...</td>\n",
       "      <td>-0.009431</td>\n",
       "      <td>0.798278</td>\n",
       "      <td>-0.137458</td>\n",
       "      <td>0.141267</td>\n",
       "      <td>-0.206010</td>\n",
       "      <td>0.502292</td>\n",
       "      <td>0.219422</td>\n",
       "      <td>0.215153</td>\n",
       "      <td>69.99</td>\n",
       "      <td>0</td>\n",
       "    </tr>\n",
       "  </tbody>\n",
       "</table>\n",
       "<p>5 rows × 31 columns</p>\n",
       "</div>"
      ],
      "text/plain": [
       "   Time        V1        V2        V3        V4        V5        V6        V7  \\\n",
       "0   0.0 -1.359807 -0.072781  2.536347  1.378155 -0.338321  0.462388  0.239599   \n",
       "1   0.0  1.191857  0.266151  0.166480  0.448154  0.060018 -0.082361 -0.078803   \n",
       "2   1.0 -1.358354 -1.340163  1.773209  0.379780 -0.503198  1.800499  0.791461   \n",
       "3   1.0 -0.966272 -0.185226  1.792993 -0.863291 -0.010309  1.247203  0.237609   \n",
       "4   2.0 -1.158233  0.877737  1.548718  0.403034 -0.407193  0.095921  0.592941   \n",
       "\n",
       "         V8        V9  ...       V21       V22       V23       V24       V25  \\\n",
       "0  0.098698  0.363787  ... -0.018307  0.277838 -0.110474  0.066928  0.128539   \n",
       "1  0.085102 -0.255425  ... -0.225775 -0.638672  0.101288 -0.339846  0.167170   \n",
       "2  0.247676 -1.514654  ...  0.247998  0.771679  0.909412 -0.689281 -0.327642   \n",
       "3  0.377436 -1.387024  ... -0.108300  0.005274 -0.190321 -1.175575  0.647376   \n",
       "4 -0.270533  0.817739  ... -0.009431  0.798278 -0.137458  0.141267 -0.206010   \n",
       "\n",
       "        V26       V27       V28  Amount  Class  \n",
       "0 -0.189115  0.133558 -0.021053  149.62      0  \n",
       "1  0.125895 -0.008983  0.014724    2.69      0  \n",
       "2 -0.139097 -0.055353 -0.059752  378.66      0  \n",
       "3 -0.221929  0.062723  0.061458  123.50      0  \n",
       "4  0.502292  0.219422  0.215153   69.99      0  \n",
       "\n",
       "[5 rows x 31 columns]"
      ]
     },
     "execution_count": 6,
     "metadata": {},
     "output_type": "execute_result"
    }
   ],
   "source": [
    "#Import DataSet\n",
    "df=pd.read_csv('creditcard.csv')\n",
    "df.head()"
   ]
  },
  {
   "cell_type": "code",
   "execution_count": 7,
   "metadata": {},
   "outputs": [
    {
     "data": {
      "text/html": [
       "<div>\n",
       "<style scoped>\n",
       "    .dataframe tbody tr th:only-of-type {\n",
       "        vertical-align: middle;\n",
       "    }\n",
       "\n",
       "    .dataframe tbody tr th {\n",
       "        vertical-align: top;\n",
       "    }\n",
       "\n",
       "    .dataframe thead th {\n",
       "        text-align: right;\n",
       "    }\n",
       "</style>\n",
       "<table border=\"1\" class=\"dataframe\">\n",
       "  <thead>\n",
       "    <tr style=\"text-align: right;\">\n",
       "      <th></th>\n",
       "      <th>Time</th>\n",
       "      <th>V1</th>\n",
       "      <th>V2</th>\n",
       "      <th>V3</th>\n",
       "      <th>V4</th>\n",
       "      <th>V5</th>\n",
       "      <th>V6</th>\n",
       "      <th>V7</th>\n",
       "      <th>V8</th>\n",
       "      <th>V9</th>\n",
       "      <th>...</th>\n",
       "      <th>V21</th>\n",
       "      <th>V22</th>\n",
       "      <th>V23</th>\n",
       "      <th>V24</th>\n",
       "      <th>V25</th>\n",
       "      <th>V26</th>\n",
       "      <th>V27</th>\n",
       "      <th>V28</th>\n",
       "      <th>Amount</th>\n",
       "      <th>Class</th>\n",
       "    </tr>\n",
       "  </thead>\n",
       "  <tbody>\n",
       "    <tr>\n",
       "      <th>count</th>\n",
       "      <td>284807.000000</td>\n",
       "      <td>2.848070e+05</td>\n",
       "      <td>2.848070e+05</td>\n",
       "      <td>2.848070e+05</td>\n",
       "      <td>2.848070e+05</td>\n",
       "      <td>2.848070e+05</td>\n",
       "      <td>2.848070e+05</td>\n",
       "      <td>2.848070e+05</td>\n",
       "      <td>2.848070e+05</td>\n",
       "      <td>2.848070e+05</td>\n",
       "      <td>...</td>\n",
       "      <td>2.848070e+05</td>\n",
       "      <td>2.848070e+05</td>\n",
       "      <td>2.848070e+05</td>\n",
       "      <td>2.848070e+05</td>\n",
       "      <td>2.848070e+05</td>\n",
       "      <td>2.848070e+05</td>\n",
       "      <td>2.848070e+05</td>\n",
       "      <td>2.848070e+05</td>\n",
       "      <td>284807.000000</td>\n",
       "      <td>284807.000000</td>\n",
       "    </tr>\n",
       "    <tr>\n",
       "      <th>mean</th>\n",
       "      <td>94813.859575</td>\n",
       "      <td>1.758702e-12</td>\n",
       "      <td>-8.252296e-13</td>\n",
       "      <td>-9.637438e-13</td>\n",
       "      <td>8.316234e-13</td>\n",
       "      <td>1.592013e-13</td>\n",
       "      <td>4.247308e-13</td>\n",
       "      <td>-3.050183e-13</td>\n",
       "      <td>8.692882e-14</td>\n",
       "      <td>-1.179710e-12</td>\n",
       "      <td>...</td>\n",
       "      <td>-3.406538e-13</td>\n",
       "      <td>-5.713357e-13</td>\n",
       "      <td>-9.725290e-13</td>\n",
       "      <td>1.464144e-12</td>\n",
       "      <td>-6.989090e-13</td>\n",
       "      <td>-5.615254e-13</td>\n",
       "      <td>3.332111e-12</td>\n",
       "      <td>-3.518885e-12</td>\n",
       "      <td>88.349619</td>\n",
       "      <td>0.001727</td>\n",
       "    </tr>\n",
       "    <tr>\n",
       "      <th>std</th>\n",
       "      <td>47488.145955</td>\n",
       "      <td>1.958696e+00</td>\n",
       "      <td>1.651309e+00</td>\n",
       "      <td>1.516255e+00</td>\n",
       "      <td>1.415869e+00</td>\n",
       "      <td>1.380247e+00</td>\n",
       "      <td>1.332271e+00</td>\n",
       "      <td>1.237094e+00</td>\n",
       "      <td>1.194353e+00</td>\n",
       "      <td>1.098632e+00</td>\n",
       "      <td>...</td>\n",
       "      <td>7.345240e-01</td>\n",
       "      <td>7.257016e-01</td>\n",
       "      <td>6.244603e-01</td>\n",
       "      <td>6.056471e-01</td>\n",
       "      <td>5.212781e-01</td>\n",
       "      <td>4.822270e-01</td>\n",
       "      <td>4.036325e-01</td>\n",
       "      <td>3.300833e-01</td>\n",
       "      <td>250.120109</td>\n",
       "      <td>0.041527</td>\n",
       "    </tr>\n",
       "    <tr>\n",
       "      <th>min</th>\n",
       "      <td>0.000000</td>\n",
       "      <td>-5.640751e+01</td>\n",
       "      <td>-7.271573e+01</td>\n",
       "      <td>-4.832559e+01</td>\n",
       "      <td>-5.683171e+00</td>\n",
       "      <td>-1.137433e+02</td>\n",
       "      <td>-2.616051e+01</td>\n",
       "      <td>-4.355724e+01</td>\n",
       "      <td>-7.321672e+01</td>\n",
       "      <td>-1.343407e+01</td>\n",
       "      <td>...</td>\n",
       "      <td>-3.483038e+01</td>\n",
       "      <td>-1.093314e+01</td>\n",
       "      <td>-4.480774e+01</td>\n",
       "      <td>-2.836627e+00</td>\n",
       "      <td>-1.029540e+01</td>\n",
       "      <td>-2.604551e+00</td>\n",
       "      <td>-2.256568e+01</td>\n",
       "      <td>-1.543008e+01</td>\n",
       "      <td>0.000000</td>\n",
       "      <td>0.000000</td>\n",
       "    </tr>\n",
       "    <tr>\n",
       "      <th>25%</th>\n",
       "      <td>54201.500000</td>\n",
       "      <td>-9.203734e-01</td>\n",
       "      <td>-5.985499e-01</td>\n",
       "      <td>-8.903648e-01</td>\n",
       "      <td>-8.486401e-01</td>\n",
       "      <td>-6.915971e-01</td>\n",
       "      <td>-7.682956e-01</td>\n",
       "      <td>-5.540759e-01</td>\n",
       "      <td>-2.086297e-01</td>\n",
       "      <td>-6.430976e-01</td>\n",
       "      <td>...</td>\n",
       "      <td>-2.283949e-01</td>\n",
       "      <td>-5.423504e-01</td>\n",
       "      <td>-1.618463e-01</td>\n",
       "      <td>-3.545861e-01</td>\n",
       "      <td>-3.171451e-01</td>\n",
       "      <td>-3.269839e-01</td>\n",
       "      <td>-7.083953e-02</td>\n",
       "      <td>-5.295979e-02</td>\n",
       "      <td>5.600000</td>\n",
       "      <td>0.000000</td>\n",
       "    </tr>\n",
       "    <tr>\n",
       "      <th>50%</th>\n",
       "      <td>84692.000000</td>\n",
       "      <td>1.810880e-02</td>\n",
       "      <td>6.548556e-02</td>\n",
       "      <td>1.798463e-01</td>\n",
       "      <td>-1.984653e-02</td>\n",
       "      <td>-5.433583e-02</td>\n",
       "      <td>-2.741871e-01</td>\n",
       "      <td>4.010308e-02</td>\n",
       "      <td>2.235804e-02</td>\n",
       "      <td>-5.142873e-02</td>\n",
       "      <td>...</td>\n",
       "      <td>-2.945017e-02</td>\n",
       "      <td>6.781943e-03</td>\n",
       "      <td>-1.119293e-02</td>\n",
       "      <td>4.097606e-02</td>\n",
       "      <td>1.659350e-02</td>\n",
       "      <td>-5.213911e-02</td>\n",
       "      <td>1.342146e-03</td>\n",
       "      <td>1.124383e-02</td>\n",
       "      <td>22.000000</td>\n",
       "      <td>0.000000</td>\n",
       "    </tr>\n",
       "    <tr>\n",
       "      <th>75%</th>\n",
       "      <td>139320.500000</td>\n",
       "      <td>1.315642e+00</td>\n",
       "      <td>8.037239e-01</td>\n",
       "      <td>1.027196e+00</td>\n",
       "      <td>7.433413e-01</td>\n",
       "      <td>6.119264e-01</td>\n",
       "      <td>3.985649e-01</td>\n",
       "      <td>5.704361e-01</td>\n",
       "      <td>3.273459e-01</td>\n",
       "      <td>5.971390e-01</td>\n",
       "      <td>...</td>\n",
       "      <td>1.863772e-01</td>\n",
       "      <td>5.285536e-01</td>\n",
       "      <td>1.476421e-01</td>\n",
       "      <td>4.395266e-01</td>\n",
       "      <td>3.507156e-01</td>\n",
       "      <td>2.409522e-01</td>\n",
       "      <td>9.104512e-02</td>\n",
       "      <td>7.827995e-02</td>\n",
       "      <td>77.165000</td>\n",
       "      <td>0.000000</td>\n",
       "    </tr>\n",
       "    <tr>\n",
       "      <th>max</th>\n",
       "      <td>172792.000000</td>\n",
       "      <td>2.454930e+00</td>\n",
       "      <td>2.205773e+01</td>\n",
       "      <td>9.382558e+00</td>\n",
       "      <td>1.687534e+01</td>\n",
       "      <td>3.480167e+01</td>\n",
       "      <td>7.330163e+01</td>\n",
       "      <td>1.205895e+02</td>\n",
       "      <td>2.000721e+01</td>\n",
       "      <td>1.559499e+01</td>\n",
       "      <td>...</td>\n",
       "      <td>2.720284e+01</td>\n",
       "      <td>1.050309e+01</td>\n",
       "      <td>2.252841e+01</td>\n",
       "      <td>4.584549e+00</td>\n",
       "      <td>7.519589e+00</td>\n",
       "      <td>3.517346e+00</td>\n",
       "      <td>3.161220e+01</td>\n",
       "      <td>3.384781e+01</td>\n",
       "      <td>25691.160000</td>\n",
       "      <td>1.000000</td>\n",
       "    </tr>\n",
       "  </tbody>\n",
       "</table>\n",
       "<p>8 rows × 31 columns</p>\n",
       "</div>"
      ],
      "text/plain": [
       "                Time            V1            V2            V3            V4  \\\n",
       "count  284807.000000  2.848070e+05  2.848070e+05  2.848070e+05  2.848070e+05   \n",
       "mean    94813.859575  1.758702e-12 -8.252296e-13 -9.637438e-13  8.316234e-13   \n",
       "std     47488.145955  1.958696e+00  1.651309e+00  1.516255e+00  1.415869e+00   \n",
       "min         0.000000 -5.640751e+01 -7.271573e+01 -4.832559e+01 -5.683171e+00   \n",
       "25%     54201.500000 -9.203734e-01 -5.985499e-01 -8.903648e-01 -8.486401e-01   \n",
       "50%     84692.000000  1.810880e-02  6.548556e-02  1.798463e-01 -1.984653e-02   \n",
       "75%    139320.500000  1.315642e+00  8.037239e-01  1.027196e+00  7.433413e-01   \n",
       "max    172792.000000  2.454930e+00  2.205773e+01  9.382558e+00  1.687534e+01   \n",
       "\n",
       "                 V5            V6            V7            V8            V9  \\\n",
       "count  2.848070e+05  2.848070e+05  2.848070e+05  2.848070e+05  2.848070e+05   \n",
       "mean   1.592013e-13  4.247308e-13 -3.050183e-13  8.692882e-14 -1.179710e-12   \n",
       "std    1.380247e+00  1.332271e+00  1.237094e+00  1.194353e+00  1.098632e+00   \n",
       "min   -1.137433e+02 -2.616051e+01 -4.355724e+01 -7.321672e+01 -1.343407e+01   \n",
       "25%   -6.915971e-01 -7.682956e-01 -5.540759e-01 -2.086297e-01 -6.430976e-01   \n",
       "50%   -5.433583e-02 -2.741871e-01  4.010308e-02  2.235804e-02 -5.142873e-02   \n",
       "75%    6.119264e-01  3.985649e-01  5.704361e-01  3.273459e-01  5.971390e-01   \n",
       "max    3.480167e+01  7.330163e+01  1.205895e+02  2.000721e+01  1.559499e+01   \n",
       "\n",
       "       ...           V21           V22           V23           V24  \\\n",
       "count  ...  2.848070e+05  2.848070e+05  2.848070e+05  2.848070e+05   \n",
       "mean   ... -3.406538e-13 -5.713357e-13 -9.725290e-13  1.464144e-12   \n",
       "std    ...  7.345240e-01  7.257016e-01  6.244603e-01  6.056471e-01   \n",
       "min    ... -3.483038e+01 -1.093314e+01 -4.480774e+01 -2.836627e+00   \n",
       "25%    ... -2.283949e-01 -5.423504e-01 -1.618463e-01 -3.545861e-01   \n",
       "50%    ... -2.945017e-02  6.781943e-03 -1.119293e-02  4.097606e-02   \n",
       "75%    ...  1.863772e-01  5.285536e-01  1.476421e-01  4.395266e-01   \n",
       "max    ...  2.720284e+01  1.050309e+01  2.252841e+01  4.584549e+00   \n",
       "\n",
       "                V25           V26           V27           V28         Amount  \\\n",
       "count  2.848070e+05  2.848070e+05  2.848070e+05  2.848070e+05  284807.000000   \n",
       "mean  -6.989090e-13 -5.615254e-13  3.332111e-12 -3.518885e-12      88.349619   \n",
       "std    5.212781e-01  4.822270e-01  4.036325e-01  3.300833e-01     250.120109   \n",
       "min   -1.029540e+01 -2.604551e+00 -2.256568e+01 -1.543008e+01       0.000000   \n",
       "25%   -3.171451e-01 -3.269839e-01 -7.083953e-02 -5.295979e-02       5.600000   \n",
       "50%    1.659350e-02 -5.213911e-02  1.342146e-03  1.124383e-02      22.000000   \n",
       "75%    3.507156e-01  2.409522e-01  9.104512e-02  7.827995e-02      77.165000   \n",
       "max    7.519589e+00  3.517346e+00  3.161220e+01  3.384781e+01   25691.160000   \n",
       "\n",
       "               Class  \n",
       "count  284807.000000  \n",
       "mean        0.001727  \n",
       "std         0.041527  \n",
       "min         0.000000  \n",
       "25%         0.000000  \n",
       "50%         0.000000  \n",
       "75%         0.000000  \n",
       "max         1.000000  \n",
       "\n",
       "[8 rows x 31 columns]"
      ]
     },
     "execution_count": 7,
     "metadata": {},
     "output_type": "execute_result"
    }
   ],
   "source": [
    "df.describe()"
   ]
  },
  {
   "cell_type": "code",
   "execution_count": 8,
   "metadata": {},
   "outputs": [
    {
     "name": "stdout",
     "output_type": "stream",
     "text": [
      "0    284315\n",
      "1       492\n",
      "Name: Class, dtype: int64\n"
     ]
    },
    {
     "data": {
      "text/plain": [
       "<AxesSubplot:>"
      ]
     },
     "execution_count": 8,
     "metadata": {},
     "output_type": "execute_result"
    },
    {
     "data": {
      "image/png": "[encoded data removed]",
      "text/plain": [
       "<Figure size 432x288 with 1 Axes>"
      ]
     },
     "metadata": {
      "needs_background": "light"
     },
     "output_type": "display_data"
    }
   ],
   "source": [
    "print(df.Class.value_counts())\n",
    "df.Class.value_counts().plot.bar(logy=True)"
   ]
  },
  {
   "cell_type": "code",
   "execution_count": 9,
   "metadata": {},
   "outputs": [
    {
     "name": "stdout",
     "output_type": "stream",
     "text": [
      "original shape of dataframe :- (284807, 31)\n",
      "shape of dataframe after duplicate removal :- (283726, 31)\n",
      "0    283253\n",
      "1       473\n",
      "Name: Class, dtype: int64\n"
     ]
    }
   ],
   "source": [
    "# Check for row level duplicates \n",
    "print(\"original shape of dataframe :-\",df.shape)\n",
    "print(\"shape of dataframe after duplicate removal :-\",df.drop_duplicates().shape)\n",
    "# We have duplicates , so lets remove it \n",
    "df=df.drop_duplicates()\n",
    "print(df.Class.value_counts())"
   ]
  },
  {
   "cell_type": "code",
   "execution_count": 10,
   "metadata": {},
   "outputs": [
    {
     "data": {
      "text/plain": [
       "<AxesSubplot:title={'center':'Correlation with Class'}>"
      ]
     },
     "execution_count": 10,
     "metadata": {},
     "output_type": "execute_result"
    },
    {
     "data": {
      "image/png": "[encoded data removed]",
      "text/plain": [
       "<Figure size 1440x720 with 1 Axes>"
      ]
     },
     "metadata": {
      "needs_background": "light"
     },
     "output_type": "display_data"
    }
   ],
   "source": [
    "#Apply feature Scaling\n",
    "\n",
    "from sklearn.preprocessing import StandardScaler\n",
    "x=df.drop('Class',axis=1)\n",
    "y=df['Class']\n",
    "scaler=StandardScaler()\n",
    "x_new=scaler.fit_transform(x)\n",
    "x=pd.DataFrame(x_new,columns=x.columns)\n",
    "x.corrwith(df.Class).plot.bar(figsize = (20, 10), title = \"Correlation with Class\", fontsize = 20,rot = 45, grid = False)"
   ]
  },
  {
   "cell_type": "code",
   "execution_count": 11,
   "metadata": {},
   "outputs": [
    {
     "data": {
      "text/plain": [
       "<AxesSubplot:>"
      ]
     },
     "execution_count": 11,
     "metadata": {},
     "output_type": "execute_result"
    },
    {
     "data": {
      "image/png": "[encoded data removed]",
      "text/plain": [
       "<Figure size 432x288 with 2 Axes>"
      ]
     },
     "metadata": {
      "needs_background": "light"
     },
     "output_type": "display_data"
    }
   ],
   "source": [
    "sns.heatmap(df.corr())"
   ]
  },
  {
   "cell_type": "markdown",
   "metadata": {},
   "source": [
    "# Logistic_Regresion, Decision_Tree, Random_Forest"
   ]
  },
  {
   "cell_type": "code",
   "execution_count": 12,
   "metadata": {},
   "outputs": [],
   "source": [
    "x_train,x_test,y_train,y_test=train_test_split(x,y,train_size=0.7,random_state=42)"
   ]
  },
  {
   "cell_type": "code",
   "execution_count": 13,
   "metadata": {},
   "outputs": [],
   "source": [
    "models={'Logisitc regression': LogisticRegression(),\n",
    "       'Decision tree classifier' : DecisionTreeClassifier(), \n",
    "       'Random forest Classifier': RandomForestClassifier() }\n",
    "\n",
    "def model_fit(model, x_train, y_train, x_test, y_test, model_name): \n",
    "    model_cur = model.fit(x_train,y_train)\n",
    "    predictions = model_cur.predict(x_test)\n",
    "    model_evaluation(y_test,predictions,model_name)\n",
    "    \n",
    "def model_evaluation(y_test, predictions, model_name): \n",
    "    print('f1 score for '+model_name+ ' is \\n'+str(classification_report(y_test,predictions)))"
   ]
  },
  {
   "cell_type": "code",
   "execution_count": 14,
   "metadata": {},
   "outputs": [
    {
     "name": "stdout",
     "output_type": "stream",
     "text": [
      "f1 score for Logisitc regression is \n",
      "              precision    recall  f1-score   support\n",
      "\n",
      "           0       1.00      1.00      1.00     84984\n",
      "           1       0.87      0.55      0.68       134\n",
      "\n",
      "    accuracy                           1.00     85118\n",
      "   macro avg       0.93      0.78      0.84     85118\n",
      "weighted avg       1.00      1.00      1.00     85118\n",
      "\n",
      "f1 score for Decision tree classifier is \n",
      "              precision    recall  f1-score   support\n",
      "\n",
      "           0       1.00      1.00      1.00     84984\n",
      "           1       0.71      0.75      0.73       134\n",
      "\n",
      "    accuracy                           1.00     85118\n",
      "   macro avg       0.86      0.87      0.86     85118\n",
      "weighted avg       1.00      1.00      1.00     85118\n",
      "\n",
      "f1 score for Random forest Classifier is \n",
      "              precision    recall  f1-score   support\n",
      "\n",
      "           0       1.00      1.00      1.00     84984\n",
      "           1       0.95      0.73      0.83       134\n",
      "\n",
      "    accuracy                           1.00     85118\n",
      "   macro avg       0.98      0.87      0.91     85118\n",
      "weighted avg       1.00      1.00      1.00     85118\n",
      "\n"
     ]
    }
   ],
   "source": [
    "# execution time approx 3.30 min\n",
    "for model_name,model in models.items(): \n",
    "    model_fit(model,x_train,y_train,x_test,y_test,model_name)"
   ]
  },
  {
   "cell_type": "markdown",
   "metadata": {},
   "source": [
    "# DATA Level Approach\n",
    "#     1. SMOTE\n",
    "#     2. RUS"
   ]
  },
  {
   "cell_type": "markdown",
   "metadata": {},
   "source": [
    "# SMOTE\n",
    "# =========================="
   ]
  },
  {
   "cell_type": "code",
   "execution_count": 15,
   "metadata": {},
   "outputs": [
    {
     "name": "stdout",
     "output_type": "stream",
     "text": [
      "Counter({0: 198269, 1: 339})\n"
     ]
    }
   ],
   "source": [
    "from collections import Counter\n",
    "print(Counter(y_train))"
   ]
  },
  {
   "cell_type": "code",
   "execution_count": 16,
   "metadata": {},
   "outputs": [],
   "source": [
    "from imblearn.over_sampling import SMOTE\n",
    "sm = SMOTE(random_state=10)\n",
    "X_TrainSMOTE, y_TrainSMOTE = sm.fit_resample(x_train, y_train)"
   ]
  },
  {
   "cell_type": "code",
   "execution_count": 17,
   "metadata": {},
   "outputs": [
    {
     "name": "stdout",
     "output_type": "stream",
     "text": [
      "Before SMOTE :  Counter({0: 198269, 1: 339})\n",
      "After SMOTE :  Counter({0: 198269, 1: 198269})\n"
     ]
    }
   ],
   "source": [
    "print(\"Before SMOTE : \", Counter(y_train))\n",
    "print(\"After SMOTE : \", Counter(y_TrainSMOTE))"
   ]
  },
  {
   "cell_type": "code",
   "execution_count": 18,
   "metadata": {},
   "outputs": [
    {
     "name": "stdout",
     "output_type": "stream",
     "text": [
      "f1 score for Logisitc regression is \n",
      "              precision    recall  f1-score   support\n",
      "\n",
      "           0       1.00      0.98      0.99     84984\n",
      "           1       0.06      0.90      0.10       134\n",
      "\n",
      "    accuracy                           0.98     85118\n",
      "   macro avg       0.53      0.94      0.55     85118\n",
      "weighted avg       1.00      0.98      0.99     85118\n",
      "\n",
      "f1 score for Decision tree classifier is \n",
      "              precision    recall  f1-score   support\n",
      "\n",
      "           0       1.00      1.00      1.00     84984\n",
      "           1       0.37      0.76      0.50       134\n",
      "\n",
      "    accuracy                           1.00     85118\n",
      "   macro avg       0.68      0.88      0.75     85118\n",
      "weighted avg       1.00      1.00      1.00     85118\n",
      "\n",
      "f1 score for Random forest Classifier is \n",
      "              precision    recall  f1-score   support\n",
      "\n",
      "           0       1.00      1.00      1.00     84984\n",
      "           1       0.88      0.79      0.83       134\n",
      "\n",
      "    accuracy                           1.00     85118\n",
      "   macro avg       0.94      0.90      0.92     85118\n",
      "weighted avg       1.00      1.00      1.00     85118\n",
      "\n"
     ]
    }
   ],
   "source": [
    "# execution time approx 6.30 min\n",
    "for model_name,model in models.items(): \n",
    "    model_fit(model,X_TrainSMOTE,y_TrainSMOTE,x_test,y_test,model_name)"
   ]
  },
  {
   "cell_type": "markdown",
   "metadata": {},
   "source": [
    "# RUS\n",
    "# =========================="
   ]
  },
  {
   "cell_type": "code",
   "execution_count": 19,
   "metadata": {},
   "outputs": [],
   "source": [
    "from sklearn.utils import resample"
   ]
  },
  {
   "cell_type": "code",
   "execution_count": 20,
   "metadata": {},
   "outputs": [
    {
     "name": "stdout",
     "output_type": "stream",
     "text": [
      "After RUS :  Counter({0.0: 240, 1.0: 240})\n"
     ]
    }
   ],
   "source": [
    "x_under = x_train.copy()\n",
    "x_under['Class'] = y_train\n",
    "\n",
    "x_maj_under = x_under[x_under.Class==0]\n",
    "x_min_under = x_under[x_under.Class==1]\n",
    "\n",
    "x_maj_under_rus = resample(x_maj_under,replace=False,n_samples=len(x_min_under),random_state=42)\n",
    "x_under_rus = pd.concat([x_maj_under_rus, x_min_under])\n",
    "\n",
    "# print(\"Before RUS : \", Counter(x_under['Class']))\n",
    "print(\"After RUS : \", Counter(x_under_rus['Class']))\n",
    "\n",
    "x_train_under_rus = x_under_rus.drop(['Class'], axis=1)\n",
    "y_train_under_rus = x_under_rus.Class"
   ]
  },
  {
   "cell_type": "code",
   "execution_count": 21,
   "metadata": {},
   "outputs": [
    {
     "name": "stdout",
     "output_type": "stream",
     "text": [
      "f1 score for Logisitc regression is \n",
      "              precision    recall  f1-score   support\n",
      "\n",
      "           0       1.00      0.61      0.75     84984\n",
      "           1       0.00      0.89      0.01       134\n",
      "\n",
      "    accuracy                           0.61     85118\n",
      "   macro avg       0.50      0.75      0.38     85118\n",
      "weighted avg       1.00      0.61      0.75     85118\n",
      "\n",
      "f1 score for Decision tree classifier is \n",
      "              precision    recall  f1-score   support\n",
      "\n",
      "           0       1.00      0.50      0.67     84984\n",
      "           1       0.00      0.75      0.00       134\n",
      "\n",
      "    accuracy                           0.50     85118\n",
      "   macro avg       0.50      0.63      0.34     85118\n",
      "weighted avg       1.00      0.50      0.67     85118\n",
      "\n",
      "f1 score for Random forest Classifier is \n",
      "              precision    recall  f1-score   support\n",
      "\n",
      "           0       1.00      0.60      0.75     84984\n",
      "           1       0.00      0.84      0.01       134\n",
      "\n",
      "    accuracy                           0.60     85118\n",
      "   macro avg       0.50      0.72      0.38     85118\n",
      "weighted avg       1.00      0.60      0.75     85118\n",
      "\n"
     ]
    }
   ],
   "source": [
    "# execution time approx less than a min\n",
    "for model_name,model in models.items(): \n",
    "    model_fit(model,x_train_under_rus,y_train_under_rus,x_test,y_test,model_name)"
   ]
  },
  {
   "cell_type": "markdown",
   "metadata": {},
   "source": [
    "#    ALGORITHM Level Approach\n",
    "# 1. Cost Sensitive Learning\n",
    "# 2. Ensemble Method\n",
    "# 3. One Class Learning"
   ]
  },
  {
   "cell_type": "markdown",
   "metadata": {},
   "source": [
    "# CSL - Logistics Regressin\n",
    "# ============================="
   ]
  },
  {
   "cell_type": "code",
   "execution_count": 59,
   "metadata": {},
   "outputs": [
    {
     "name": "stdout",
     "output_type": "stream",
     "text": [
      "f1 score for CSL - Logistic Regression is \n",
      "              precision    recall  f1-score   support\n",
      "\n",
      "           0       1.00      0.98      0.99     84984\n",
      "           1       0.06      0.90      0.11       134\n",
      "\n",
      "    accuracy                           0.98     85118\n",
      "   macro avg       0.53      0.94      0.55     85118\n",
      "weighted avg       1.00      0.98      0.99     85118\n",
      "\n",
      "Accuracy Score: 0.9775958081721845\n",
      "Area Under Curve: 0.9366238034622144\n",
      "Recall score: 0.8955223880597015\n"
     ]
    },
    {
     "data": {
      "image/png": "[encoded data removed]",
      "text/plain": [
       "<Figure size 432x288 with 2 Axes>"
      ]
     },
     "metadata": {
      "needs_background": "light"
     },
     "output_type": "display_data"
    }
   ],
   "source": [
    "# execution time less than a min\n",
    "LgR_model_CS = LogisticRegression(class_weight='balanced')\n",
    "LgR_cur_CS = LgR_model_CS.fit(x_train,y_train)\n",
    "LgR_predictions_CS=LgR_cur_CS.predict(x_test)\n",
    "model_name = 'CSL - Logistic Regression'\n",
    "print('f1 score for '+model_name+ ' is \\n'+str(classification_report(y_test,LgR_predictions_CS)))\n",
    "\n",
    "print(f'Accuracy Score: {accuracy_score(y_test, LgR_predictions_CS)}')\n",
    "# print(f'Confusion Matrix: \\n{confusion_matrix(y_test, LgR_predictions_CS)}')\n",
    "print(f'Area Under Curve: {roc_auc_score(y_test, LgR_predictions_CS)}')\n",
    "print(f'Recall score: {recall_score(y_test, LgR_predictions_CS)}')\n",
    "\n",
    "\n",
    "confm = confusion_matrix(y_test, LgR_predictions_CS)\n",
    "columns = ['Not Fraud','Fraud']\n",
    "df_cm = pd.DataFrame(confm.astype(float), index=columns, columns=columns)\n",
    "ax = sns.heatmap(df_cm, cmap='jet',annot=True,fmt='g')"
   ]
  },
  {
   "cell_type": "markdown",
   "metadata": {},
   "source": [
    "**Experimenting with different weights for the minority class**"
   ]
  },
  {
   "cell_type": "code",
   "execution_count": 23,
   "metadata": {},
   "outputs": [
    {
     "name": "stdout",
     "output_type": "stream",
     "text": [
      "---Weight of 1 for Fraud class---\n",
      "Accuracy Score: 0.9991658638595832\n",
      "Confusion Matrix: \n",
      "[[84973    11]\n",
      " [   60    74]]\n",
      "Area Under Curve: 0.7760546849204978\n",
      "Recall score: 0.5522388059701493\n",
      "f1 score: 0.6757990867579908\n",
      "\n",
      "\n",
      "\n",
      "---Weight of 5 for Fraud class---\n",
      "Accuracy Score: 0.9992833478230222\n",
      "Confusion Matrix: \n",
      "[[84957    27]\n",
      " [   34   100]]\n",
      "Area Under Curve: 0.8729754749269748\n",
      "Recall score: 0.746268656716418\n",
      "f1 score: 0.7662835249042146\n",
      "\n",
      "\n",
      "\n",
      "---Weight of 10 for Fraud class---\n",
      "Accuracy Score: 0.9992481026339904\n",
      "Confusion Matrix: \n",
      "[[84948    36]\n",
      " [   28   106]]\n",
      "Area Under Curve: 0.8953105834847226\n",
      "Recall score: 0.7910447761194029\n",
      "f1 score: 0.7681159420289855\n",
      "\n",
      "\n",
      "\n",
      "---Weight of 50 for Fraud class---\n",
      "Accuracy Score: 0.9981907469630396\n",
      "Confusion Matrix: \n",
      "[[84854   130]\n",
      " [   24   110]]\n",
      "Area Under Curve: 0.9096829113399396\n",
      "Recall score: 0.8208955223880597\n",
      "f1 score: 0.5882352941176471\n",
      "\n",
      "\n",
      "\n",
      "---Weight of 100 for Fraud class---\n",
      "Accuracy Score: 0.9957940741088841\n",
      "Confusion Matrix: \n",
      "[[84647   337]\n",
      " [   21   113]]\n",
      "Area Under Curve: 0.9196590648845577\n",
      "Recall score: 0.8432835820895522\n",
      "f1 score: 0.386986301369863\n",
      "\n",
      "\n",
      "\n",
      "---Weight of 150 for Fraud class---\n",
      "Accuracy Score: 0.9938790855048286\n",
      "Confusion Matrix: \n",
      "[[84484   500]\n",
      " [   21   113]]\n",
      "Area Under Curve: 0.9187000608367368\n",
      "Recall score: 0.8432835820895522\n",
      "f1 score: 0.30254350736278446\n",
      "\n",
      "\n",
      "\n",
      "---Weight of 200 for Fraud class---\n",
      "Accuracy Score: 0.9921990648276511\n",
      "Confusion Matrix: \n",
      "[[84339   645]\n",
      " [   19   115]]\n",
      "Area Under Curve: 0.9253096456435699\n",
      "Recall score: 0.8582089552238806\n",
      "f1 score: 0.25727069351230425\n",
      "\n",
      "\n",
      "\n"
     ]
    }
   ],
   "source": [
    "weight_arr = [1, 5, 10 ,50, 100, 150 , 200]\n",
    "recall_list=[]\n",
    "f1_score_list=[]\n",
    "accuracy_list=[]\n",
    "roc_list=[]\n",
    "ypred_list=[]\n",
    "prob_list=[]\n",
    "\n",
    "for w in weight_arr:\n",
    "    print('---Weight of {} for Fraud class---'.format(w))\n",
    "    LgR_model_CS = LogisticRegression(class_weight={0:1,1:w})\n",
    "    LgR_cur_CS = LgR_model_CS.fit(x_train, y_train)\n",
    "    LgR_predictions_CS=LgR_cur_CS.predict(x_test)\n",
    "\n",
    "    prob_list.append(roc_curve(y_test,LgR_model_CS.predict_proba(x_test)[:,1]))\n",
    "    ypred_list.append(LgR_predictions_CS)\n",
    "    accuracy_list.append(accuracy_score(y_test,LgR_predictions_CS))\n",
    "    recall_list.append(recall_score(y_test,LgR_predictions_CS))\n",
    "    f1_score_list.append(f1_score(y_test,LgR_predictions_CS))\n",
    "    roc_list.append(roc_auc_score(y_test, LgR_predictions_CS))\n",
    "\n",
    "    print(f'Accuracy Score: {accuracy_score(y_test,LgR_predictions_CS)}')\n",
    "    print(f'Confusion Matrix: \\n{confusion_matrix(y_test, LgR_predictions_CS)}')\n",
    "    print(f'Area Under Curve: {roc_auc_score(y_test, LgR_predictions_CS)}')\n",
    "    print(f'Recall score: {recall_score(y_test,LgR_predictions_CS)}')\n",
    "    print(f'f1 score: {f1_score(y_test,LgR_predictions_CS)}')\n",
    "    print('\\n\\n')"
   ]
  },
  {
   "cell_type": "code",
   "execution_count": 24,
   "metadata": {},
   "outputs": [
    {
     "data": {
      "image/png": "[encoded data removed]",
      "text/plain": [
       "<Figure size 432x288 with 1 Axes>"
      ]
     },
     "metadata": {
      "needs_background": "light"
     },
     "output_type": "display_data"
    }
   ],
   "source": [
    "plt.plot(accuracy_list)\n",
    "plt.plot(recall_list)\n",
    "plt.plot(roc_list)\n",
    "plt.plot(f1_score_list)\n",
    "plt.title('Weights of Minority class vs Performance Metrics')\n",
    "plt.ylabel('Performance')\n",
    "plt.xlabel('weight of fraud class')\n",
    "plt.xticks(range(len(weight_arr)),weight_arr)\n",
    "plt.legend(['Accuracy','Recall score','ROC AUC','f1 score'], loc='best')\n",
    "plt.show()"
   ]
  },
  {
   "cell_type": "markdown",
   "metadata": {},
   "source": [
    "# Ensemble - SMOTEBoost & RUSBoost\n",
    "# ================================="
   ]
  },
  {
   "cell_type": "markdown",
   "metadata": {},
   "source": [
    "# AdaBoost"
   ]
  },
  {
   "cell_type": "code",
   "execution_count": 25,
   "metadata": {},
   "outputs": [],
   "source": [
    "# execution time approx 9.30 min\n",
    "def adaboost(X_train, X_test, y_train):\n",
    "    model = AdaBoostClassifier(n_estimators=500, random_state=42)\n",
    "    model.fit(X_train,y_train)\n",
    "    y_pred = model.predict(X_test) \n",
    "    return y_pred\n",
    "# AdaBoost\n",
    "y_baseline = adaboost(x_train, x_test, y_train)"
   ]
  },
  {
   "cell_type": "code",
   "execution_count": 60,
   "metadata": {},
   "outputs": [
    {
     "name": "stdout",
     "output_type": "stream",
     "text": [
      "f1 score for AdaBoost is \n",
      "              precision    recall  f1-score   support\n",
      "\n",
      "           0       1.00      1.00      1.00     84984\n",
      "           1       0.92      0.76      0.83       134\n",
      "\n",
      "    accuracy                           1.00     85118\n",
      "   macro avg       0.96      0.88      0.92     85118\n",
      "weighted avg       1.00      1.00      1.00     85118\n",
      "\n",
      "Accuracy Score: 0.9995183157499001\n",
      "Confusion Matrix: \n",
      "[[84975     9]\n",
      " [   32   102]]\n",
      "Area Under Curve: 0.8805440637816284\n",
      "Recall score: 0.7611940298507462\n"
     ]
    },
    {
     "data": {
      "image/png": "[encoded data removed]",
      "text/plain": [
       "<Figure size 432x288 with 2 Axes>"
      ]
     },
     "metadata": {
      "needs_background": "light"
     },
     "output_type": "display_data"
    }
   ],
   "source": [
    "model_name = 'AdaBoost'\n",
    "print('f1 score for '+model_name+ ' is \\n'+str(classification_report(y_test, y_baseline)))\n",
    "\n",
    "print(f'Accuracy Score: {accuracy_score(y_test, y_baseline)}')\n",
    "# print(f'Confusion Matrix: \\n{confusion_matrix(y_test, y_baseline)}')\n",
    "print(f'Area Under Curve: {roc_auc_score(y_test, y_baseline)}')\n",
    "print(f'Recall score: {recall_score(y_test, y_baseline)}')\n",
    "\n",
    "confm = confusion_matrix(y_test, y_baseline)\n",
    "columns = ['Not Fraud','Fraud']\n",
    "df_cm = pd.DataFrame(confm.astype(float), index=columns, columns=columns)\n",
    "ax = sns.heatmap(df_cm, cmap='jet',annot=True,fmt='g')"
   ]
  },
  {
   "cell_type": "markdown",
   "metadata": {},
   "source": [
    "# SMOTE + AdaBOOST"
   ]
  },
  {
   "cell_type": "code",
   "execution_count": 27,
   "metadata": {},
   "outputs": [],
   "source": [
    "# execution time approx 22.00 min\n",
    "# SMOTE\n",
    "sm = SMOTE(random_state=42)\n",
    "x_train_sm, y_train_sm = sm.fit_resample(x_train, y_train)\n",
    "y_smote = adaboost(x_train_sm, x_test, y_train_sm)"
   ]
  },
  {
   "cell_type": "code",
   "execution_count": 62,
   "metadata": {},
   "outputs": [
    {
     "name": "stdout",
     "output_type": "stream",
     "text": [
      "f1 score for SMOTE + AdaBoost is \n",
      "              precision    recall  f1-score   support\n",
      "\n",
      "           0       1.00      0.99      1.00     84984\n",
      "           1       0.17      0.85      0.29       134\n",
      "\n",
      "    accuracy                           0.99     85118\n",
      "   macro avg       0.59      0.92      0.64     85118\n",
      "weighted avg       1.00      0.99      1.00     85118\n",
      "\n",
      "Accuracy Score: 0.9933034140839775\n",
      "Area Under Curve: 0.9221372310995152\n",
      "Recall score: 0.8507462686567164\n"
     ]
    },
    {
     "data": {
      "image/png": "[encoded data removed]",
      "text/plain": [
       "<Figure size 432x288 with 2 Axes>"
      ]
     },
     "metadata": {
      "needs_background": "light"
     },
     "output_type": "display_data"
    }
   ],
   "source": [
    "model_name = 'SMOTE + AdaBoost'\n",
    "print('f1 score for '+model_name+ ' is \\n'+str(classification_report(y_test, y_smote)))\n",
    "\n",
    "print(f'Accuracy Score: {accuracy_score(y_test, y_smote)}')\n",
    "# print(f'Confusion Matrix: \\n{confusion_matrix(y_test, y_smote)}')\n",
    "print(f'Area Under Curve: {roc_auc_score(y_test, y_smote)}')\n",
    "print(f'Recall score: {recall_score(y_test, y_smote)}')\n",
    "\n",
    "confm = confusion_matrix(y_test, y_smote)\n",
    "columns = ['Not Fraud','Fraud']\n",
    "df_cm = pd.DataFrame(confm.astype(float), index=columns, columns=columns)\n",
    "ax = sns.heatmap(df_cm, cmap='jet',annot=True,fmt='g')"
   ]
  },
  {
   "cell_type": "markdown",
   "metadata": {},
   "source": [
    "# RUS + AdaBOOST"
   ]
  },
  {
   "cell_type": "code",
   "execution_count": 29,
   "metadata": {},
   "outputs": [],
   "source": [
    "# RUS\n",
    "x_full = x_train.copy()\n",
    "x_full['Class'] = y_train\n",
    "x_maj = x_full[x_full.Class==0]\n",
    "x_min = x_full[x_full.Class==1]\n",
    "x_maj_rus = resample(x_maj,replace=False,n_samples=len(x_min),random_state=22)\n",
    "x_rus = pd.concat([x_maj_rus, x_min])\n",
    "x_train_rus = x_rus.drop(['Class'], axis=1)\n",
    "y_train_rus = x_rus.Class\n",
    "y_rus = adaboost(x_train_rus, x_test, y_train_rus)"
   ]
  },
  {
   "cell_type": "code",
   "execution_count": 63,
   "metadata": {},
   "outputs": [
    {
     "name": "stdout",
     "output_type": "stream",
     "text": [
      "f1 score for RUS + AdaBoost is \n",
      "              precision    recall  f1-score   support\n",
      "\n",
      "           0       1.00      0.58      0.73     84984\n",
      "           1       0.00      0.81      0.01       134\n",
      "\n",
      "    accuracy                           0.58     85118\n",
      "   macro avg       0.50      0.69      0.37     85118\n",
      "weighted avg       1.00      0.58      0.73     85118\n",
      "\n",
      "Accuracy Score: 0.5800535726873282\n",
      "Confusion Matrix: \n",
      "[[49265 35719]\n",
      " [   26   108]]\n",
      "Area Under Curve: 0.6928337520249642\n",
      "Recall score: 0.8059701492537313\n"
     ]
    },
    {
     "data": {
      "image/png": "[encoded data removed]",
      "text/plain": [
       "<Figure size 432x288 with 2 Axes>"
      ]
     },
     "metadata": {
      "needs_background": "light"
     },
     "output_type": "display_data"
    }
   ],
   "source": [
    "model_name = 'RUS + AdaBoost'\n",
    "print('f1 score for '+model_name+ ' is \\n'+str(classification_report(y_test, y_rus)))\n",
    "\n",
    "print(f'Accuracy Score: {accuracy_score(y_test, y_rus)}')\n",
    "print(f'Confusion Matrix: \\n{confusion_matrix(y_test, y_rus)}')\n",
    "print(f'Area Under Curve: {roc_auc_score(y_test, y_rus)}')\n",
    "print(f'Recall score: {recall_score(y_test, y_rus)}')\n",
    "\n",
    "confm = confusion_matrix(y_test, y_rus)\n",
    "columns = ['Not Fraud','Fraud']\n",
    "df_cm = pd.DataFrame(confm.astype(float), index=columns, columns=columns)\n",
    "ax = sns.heatmap(df_cm, cmap='jet',annot=True,fmt='g')"
   ]
  },
  {
   "cell_type": "markdown",
   "metadata": {},
   "source": [
    "# RUSBoost"
   ]
  },
  {
   "cell_type": "code",
   "execution_count": 31,
   "metadata": {},
   "outputs": [],
   "source": [
    "from imblearn.ensemble import RUSBoostClassifier\n",
    "rusboost = RUSBoostClassifier(n_estimators=100, random_state=42)"
   ]
  },
  {
   "cell_type": "code",
   "execution_count": 32,
   "metadata": {},
   "outputs": [],
   "source": [
    "#execution time approx  min\n",
    "rusboost.fit(x_train, y_train)\n",
    "y_rusboost = rusboost.predict(x_test)"
   ]
  },
  {
   "cell_type": "code",
   "execution_count": 33,
   "metadata": {},
   "outputs": [
    {
     "name": "stdout",
     "output_type": "stream",
     "text": [
      "f1 score for RUSBoost is \n",
      "              precision    recall  f1-score   support\n",
      "\n",
      "           0       1.00      0.97      0.99     84984\n",
      "           1       0.04      0.81      0.08       134\n",
      "\n",
      "    accuracy                           0.97     85118\n",
      "   macro avg       0.52      0.89      0.54     85118\n",
      "weighted avg       1.00      0.97      0.98     85118\n",
      "\n",
      "Accuracy Score: 0.9726144881223713\n",
      "Confusion Matrix: \n",
      "[[82679  2305]\n",
      " [   26   108]]\n",
      "Area Under Curve: 0.8894236983678052\n",
      "Recall score: 0.8059701492537313\n"
     ]
    }
   ],
   "source": [
    "model_name = 'RUSBoost'\n",
    "print('f1 score for '+model_name+ ' is \\n'+str(classification_report(y_test, y_rusboost)))\n",
    "\n",
    "print(f'Accuracy Score: {accuracy_score(y_test, y_rusboost)}')\n",
    "print(f'Confusion Matrix: \\n{confusion_matrix(y_test, y_rusboost)}')\n",
    "print(f'Area Under Curve: {roc_auc_score(y_test, y_rusboost)}')\n",
    "print(f'Recall score: {recall_score(y_test, y_rusboost)}')"
   ]
  },
  {
   "cell_type": "markdown",
   "metadata": {},
   "source": [
    "# SMOTEBoost"
   ]
  },
  {
   "cell_type": "code",
   "execution_count": 34,
   "metadata": {},
   "outputs": [],
   "source": [
    "# execution time approx  min\n",
    "def smoteboost(x_train_sm, X_test, y_train_sm):\n",
    "    sm = SMOTE(random_state=42)    \n",
    "    model = AdaBoostClassifier(n_estimators=1, random_state=42)\n",
    "    for i in range(10):\n",
    "        x_train_sm, y_train_sm = sm.fit_resample(x_train_sm, y_train_sm) \n",
    "        model.fit(x_train_sm,y_train_sm)\n",
    "    \n",
    "    y_pred = model.predict(X_test)\n",
    "    return y_pred\n",
    "\n",
    "y_smoteboost = smoteboost(x_train, x_test, y_train)"
   ]
  },
  {
   "cell_type": "code",
   "execution_count": 35,
   "metadata": {},
   "outputs": [
    {
     "name": "stdout",
     "output_type": "stream",
     "text": [
      "f1 score for SMOTEBoost is \n",
      "              precision    recall  f1-score   support\n",
      "\n",
      "           0       1.00      0.98      0.99     84984\n",
      "           1       0.08      0.82      0.14       134\n",
      "\n",
      "    accuracy                           0.98     85118\n",
      "   macro avg       0.54      0.90      0.57     85118\n",
      "weighted avg       1.00      0.98      0.99     85118\n",
      "\n",
      "Accuracy Score: 0.9841984069174557\n",
      "Confusion Matrix: \n",
      "[[83663  1321]\n",
      " [   24   110]]\n",
      "Area Under Curve: 0.9026757099843904\n",
      "Recall score: 0.8208955223880597\n"
     ]
    }
   ],
   "source": [
    "model_name = 'SMOTEBoost'\n",
    "print('f1 score for '+model_name+ ' is \\n'+str(classification_report(y_test, y_smoteboost)))\n",
    "\n",
    "print(f'Accuracy Score: {accuracy_score(y_test, y_smoteboost)}')\n",
    "print(f'Confusion Matrix: \\n{confusion_matrix(y_test, y_smoteboost)}')\n",
    "print(f'Area Under Curve: {roc_auc_score(y_test, y_smoteboost)}')\n",
    "print(f'Recall score: {recall_score(y_test, y_smoteboost)}')"
   ]
  },
  {
   "cell_type": "markdown",
   "metadata": {},
   "source": [
    "# One Class Learner"
   ]
  },
  {
   "cell_type": "code",
   "execution_count": 36,
   "metadata": {},
   "outputs": [
    {
     "data": {
      "text/plain": [
       "((283726, 30), (283726,))"
      ]
     },
     "execution_count": 36,
     "metadata": {},
     "output_type": "execute_result"
    }
   ],
   "source": [
    "from sklearn import preprocessing\n",
    "Y = np.array(df[\"Class\"])\n",
    "scaler=preprocessing.MinMaxScaler()\n",
    "X = np.array(scaler.fit_transform(df.drop([\"Class\"],axis=1)))\n",
    "\n",
    "X.shape,Y.shape"
   ]
  },
  {
   "cell_type": "code",
   "execution_count": 37,
   "metadata": {},
   "outputs": [
    {
     "data": {
      "text/plain": [
       "((198608, 30), (85118, 30), (198608,), (85118,))"
      ]
     },
     "execution_count": 37,
     "metadata": {},
     "output_type": "execute_result"
    }
   ],
   "source": [
    "X_train,X_test,Y_train,Y_test = train_test_split(X,Y,test_size=0.3)\n",
    "X_train.shape,X_test.shape,Y_train.shape,Y_test.shape"
   ]
  },
  {
   "cell_type": "code",
   "execution_count": 38,
   "metadata": {},
   "outputs": [
    {
     "data": {
      "text/plain": [
       "(array([0, 1], dtype=int64), array([283253,    473], dtype=int64))"
      ]
     },
     "execution_count": 38,
     "metadata": {},
     "output_type": "execute_result"
    }
   ],
   "source": [
    "np.unique(Y,return_counts=True)"
   ]
  },
  {
   "cell_type": "code",
   "execution_count": 41,
   "metadata": {},
   "outputs": [
    {
     "data": {
      "text/plain": [
       "(array([0, 1], dtype=int64), array([198282,    326], dtype=int64))"
      ]
     },
     "execution_count": 41,
     "metadata": {},
     "output_type": "execute_result"
    }
   ],
   "source": [
    "from sklearn import svm\n",
    "np.unique(Y_train,return_counts=True)"
   ]
  },
  {
   "cell_type": "code",
   "execution_count": 42,
   "metadata": {},
   "outputs": [
    {
     "data": {
      "text/plain": [
       "2"
      ]
     },
     "execution_count": 42,
     "metadata": {},
     "output_type": "execute_result"
    }
   ],
   "source": [
    "def get_label_index(Y):\n",
    "  labels_index = []\n",
    "  for i in range(2):\n",
    "    idx = np.where(Y==i)[0]\n",
    "    labels_index.append(idx)\n",
    "  return labels_index\n",
    "labi = get_label_index(Y_train)\n",
    "len(labi)"
   ]
  },
  {
   "cell_type": "code",
   "execution_count": 43,
   "metadata": {},
   "outputs": [],
   "source": [
    "svmmodel = svm.OneClassSVM(nu=0.0008)\n",
    "svmmodel.fit(X_train[labi[0]])\n",
    "y_pred_svm = svmmodel.predict(X_test)"
   ]
  },
  {
   "cell_type": "code",
   "execution_count": 44,
   "metadata": {},
   "outputs": [
    {
     "data": {
      "text/plain": [
       "(array([-1,  1], dtype=int64), array([  153, 84965], dtype=int64))"
      ]
     },
     "execution_count": 44,
     "metadata": {},
     "output_type": "execute_result"
    }
   ],
   "source": [
    "np.unique(y_pred_svm,return_counts=True)"
   ]
  },
  {
   "cell_type": "code",
   "execution_count": 45,
   "metadata": {},
   "outputs": [],
   "source": [
    "y_pred_svm[np.where(y_pred_svm == 1)] = 0\n",
    "y_pred_svm[np.where(y_pred_svm == -1)] = 1"
   ]
  },
  {
   "cell_type": "code",
   "execution_count": 64,
   "metadata": {},
   "outputs": [
    {
     "name": "stdout",
     "output_type": "stream",
     "text": [
      "f1 score for One Class SVM is \n",
      "              precision    recall  f1-score   support\n",
      "\n",
      "           0       1.00      1.00      1.00     84971\n",
      "           1       0.41      0.43      0.42       147\n",
      "\n",
      "    accuracy                           1.00     85118\n",
      "   macro avg       0.71      0.71      0.71     85118\n",
      "weighted avg       1.00      1.00      1.00     85118\n",
      "\n",
      "Accuracy Score: 0.9979557790361616\n",
      "Confusion Matrix: \n",
      "[[84881    90]\n",
      " [   84    63]]\n",
      "Area Under Curve: 0.7137561218365257\n",
      "Recall score: 0.42857142857142855\n"
     ]
    },
    {
     "data": {
      "image/png": "[encoded data removed]",
      "text/plain": [
       "<Figure size 432x288 with 2 Axes>"
      ]
     },
     "metadata": {
      "needs_background": "light"
     },
     "output_type": "display_data"
    }
   ],
   "source": [
    "# print(classification_report(Y_test,y_pred_svm))\n",
    "model_name = 'One Class SVM'\n",
    "print('f1 score for '+model_name+ ' is \\n'+str(classification_report(Y_test,y_pred_svm)))\n",
    "\n",
    "print(f'Accuracy Score: {accuracy_score(Y_test,y_pred_svm)}')\n",
    "print(f'Confusion Matrix: \\n{confusion_matrix(Y_test,y_pred_svm)}')\n",
    "print(f'Area Under Curve: {roc_auc_score(Y_test,y_pred_svm)}')\n",
    "print(f'Recall score: {recall_score(Y_test,y_pred_svm)}')\n",
    "\n",
    "confm = confusion_matrix(Y_test, y_pred_svm)\n",
    "columns = ['Not Fraud','Fraud']\n",
    "df_cm = pd.DataFrame(confm.astype(float), index=columns, columns=columns)\n",
    "ax = sns.heatmap(df_cm, cmap='jet',annot=True,fmt='g')"
   ]
  },
  {
   "cell_type": "markdown",
   "metadata": {},
   "source": [
    "# SVM"
   ]
  },
  {
   "cell_type": "code",
   "execution_count": 47,
   "metadata": {},
   "outputs": [],
   "source": [
    "svcmodel = svm.SVC(gamma=\"scale\")"
   ]
  },
  {
   "cell_type": "code",
   "execution_count": 48,
   "metadata": {},
   "outputs": [
    {
     "data": {
      "text/plain": [
       "SVC()"
      ]
     },
     "execution_count": 48,
     "metadata": {},
     "output_type": "execute_result"
    }
   ],
   "source": [
    "svcmodel.fit(X_train,Y_train)"
   ]
  },
  {
   "cell_type": "code",
   "execution_count": 49,
   "metadata": {},
   "outputs": [],
   "source": [
    "y_pred_svc = svcmodel.predict(X_test)"
   ]
  },
  {
   "cell_type": "code",
   "execution_count": 50,
   "metadata": {},
   "outputs": [
    {
     "name": "stdout",
     "output_type": "stream",
     "text": [
      "f1 score for SVM is \n",
      "              precision    recall  f1-score   support\n",
      "\n",
      "           0       1.00      1.00      1.00     84971\n",
      "           1       0.82      0.79      0.80       147\n",
      "\n",
      "    accuracy                           1.00     85118\n",
      "   macro avg       0.91      0.89      0.90     85118\n",
      "weighted avg       1.00      1.00      1.00     85118\n",
      "\n",
      "Accuracy Score: 0.9993303414083977\n",
      "Confusion Matrix: \n",
      "[[84945    26]\n",
      " [   31   116]]\n",
      "Area Under Curve: 0.8944048297550417\n",
      "Recall score: 0.7891156462585034\n"
     ]
    }
   ],
   "source": [
    "# print(classification_report(Y_test,y_pred_svc))\n",
    "model_name = 'SVM'\n",
    "print('f1 score for '+model_name+ ' is \\n'+str(classification_report(Y_test,y_pred_svc)))\n",
    "\n",
    "print(f'Accuracy Score: {accuracy_score(Y_test,y_pred_svc)}')\n",
    "print(f'Confusion Matrix: \\n{confusion_matrix(Y_test,y_pred_svc)}')\n",
    "print(f'Area Under Curve: {roc_auc_score(Y_test,y_pred_svc)}')\n",
    "print(f'Recall score: {recall_score(Y_test,y_pred_svc)}')"
   ]
  },
  {
   "cell_type": "code",
   "execution_count": null,
   "metadata": {},
   "outputs": [],
   "source": []
  }
 ],
 "metadata": {
  "kernelspec": {
   "display_name": "Python 3 (ipykernel)",
   "language": "python",
   "name": "python3"
  },
  "language_info": {
   "codemirror_mode": {
    "name": "ipython",
    "version": 3
   },
   "file_extension": ".py",
   "mimetype": "text/x-python",
   "name": "python",
   "nbconvert_exporter": "python",
   "pygments_lexer": "ipython3",
   "version": "3.7.11"
  },
  "widgets": {
   "application/vnd.jupyter.widget-state+json": {
    "state": {},
    "version_major": 2,
    "version_minor": 0
   }
  }
 },
 "nbformat": 4,
 "nbformat_minor": 2
}
